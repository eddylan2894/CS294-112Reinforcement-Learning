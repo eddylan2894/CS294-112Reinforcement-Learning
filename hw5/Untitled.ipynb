{
 "cells": [
  {
   "cell_type": "code",
   "execution_count": 1,
   "metadata": {},
   "outputs": [],
   "source": [
    "import numpy as np"
   ]
  },
  {
   "cell_type": "code",
   "execution_count": 14,
   "metadata": {},
   "outputs": [],
   "source": [
    "is_evaluation = True\n",
    "side = 2"
   ]
  },
  {
   "cell_type": "code",
   "execution_count": 21,
   "metadata": {},
   "outputs": [],
   "source": [
    "pts = int(20/side)\n",
    "board = np.zeros((pts,pts))\n",
    "board[::2,::2] =1\n",
    "board[1::2,1::2] =1\n",
    "if is_evaluation:\n",
    "    idx = np.where(board == 0)\n",
    "else:\n",
    "    idx = np.where(board == 1)\n",
    "idx = np.asarray(idx).T\n",
    "id = np.random.randint(len(idx))\n",
    "choice = idx[id]*side - 10\n",
    "x = np.random.uniform(0,side) + choice[0]\n",
    "y = np.random.uniform(0,side) + choice[1]"
   ]
  },
  {
   "cell_type": "code",
   "execution_count": 22,
   "metadata": {},
   "outputs": [
    {
     "name": "stdout",
     "output_type": "stream",
     "text": [
      "3.4473794677225094\n"
     ]
    }
   ],
   "source": [
    "#print(idx*side - 10)\n",
    "print(x)"
   ]
  },
  {
   "cell_type": "code",
   "execution_count": null,
   "metadata": {},
   "outputs": [],
   "source": []
  }
 ],
 "metadata": {
  "kernelspec": {
   "display_name": "Python 3",
   "language": "python",
   "name": "python3"
  },
  "language_info": {
   "codemirror_mode": {
    "name": "ipython",
    "version": 3
   },
   "file_extension": ".py",
   "mimetype": "text/x-python",
   "name": "python",
   "nbconvert_exporter": "python",
   "pygments_lexer": "ipython3",
   "version": "3.6.6"
  }
 },
 "nbformat": 4,
 "nbformat_minor": 2
}
