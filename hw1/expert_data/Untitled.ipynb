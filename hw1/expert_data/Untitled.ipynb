{
 "cells": [
  {
   "cell_type": "code",
   "execution_count": 1,
   "metadata": {},
   "outputs": [],
   "source": [
    "import pickle\n",
    "import numpy as np"
   ]
  },
  {
   "cell_type": "code",
   "execution_count": 2,
   "metadata": {},
   "outputs": [],
   "source": [
    "with open('Reacher-v2.pkl', 'rb') as f:\n",
    "        data = pickle.loads(f.read())"
   ]
  },
  {
   "cell_type": "code",
   "execution_count": 3,
   "metadata": {
    "scrolled": false
   },
   "outputs": [
    {
     "name": "stdout",
     "output_type": "stream",
     "text": [
      "(500, 1, 2)\n",
      "(500, 11)\n"
     ]
    }
   ],
   "source": [
    "print(data['actions'].shape)\n",
    "print(data['observations'].shape)\n",
    "#print(data['actions'])"
   ]
  },
  {
   "cell_type": "code",
   "execution_count": 6,
   "metadata": {},
   "outputs": [
    {
     "name": "stdout",
     "output_type": "stream",
     "text": [
      "(500, 1, 11)\n",
      "[[[ 9.97247896e-01  9.99421895e-01  7.41392876e-02 ...  3.89773205e-01\n",
      "   -1.49603366e-01  0.00000000e+00]]\n",
      "\n",
      " [[ 9.95562595e-01  9.99796972e-01  9.41016487e-02 ...  3.89391976e-01\n",
      "   -1.43888177e-01  0.00000000e+00]]\n",
      "\n",
      " [[ 9.88740339e-01  9.99834318e-01  1.49641377e-01 ...  3.87455429e-01\n",
      "   -1.28038556e-01  0.00000000e+00]]\n",
      "\n",
      " ...\n",
      "\n",
      " [[ 9.61744326e-01  2.76294612e-01  2.73948628e-01 ... -1.35625956e-04\n",
      "    1.67985644e-04  0.00000000e+00]]\n",
      "\n",
      " [[ 9.61423322e-01  2.77632167e-01  2.75073072e-01 ... -1.43235869e-04\n",
      "    2.80367608e-04  0.00000000e+00]]\n",
      "\n",
      " [[ 9.61132352e-01  2.78780880e-01  2.76088034e-01 ... -1.56924441e-04\n",
      "    3.81821657e-04  0.00000000e+00]]]\n"
     ]
    }
   ],
   "source": [
    "data_a = data['actions']\n",
    "data_ob = data['observations']\n",
    "data_ob = data_ob[:,None,:]\n",
    "print(data_ob.shape)\n",
    "print(data_ob)\n",
    "#data_a = data_a.reshape(data_a.shape[0],data_a.shape[2])\n",
    "#print(data_a.shape)\n",
    "#print(data_a)\n",
    "\n"
   ]
  },
  {
   "cell_type": "code",
   "execution_count": null,
   "metadata": {},
   "outputs": [],
   "source": []
  }
 ],
 "metadata": {
  "kernelspec": {
   "display_name": "Python 3",
   "language": "python",
   "name": "python3"
  },
  "language_info": {
   "codemirror_mode": {
    "name": "ipython",
    "version": 3
   },
   "file_extension": ".py",
   "mimetype": "text/x-python",
   "name": "python",
   "nbconvert_exporter": "python",
   "pygments_lexer": "ipython3",
   "version": "3.5.5"
  }
 },
 "nbformat": 4,
 "nbformat_minor": 2
}
